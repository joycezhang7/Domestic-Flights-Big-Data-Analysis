{
 "cells": [
  {
   "cell_type": "markdown",
   "metadata": {},
   "source": [
    "# DATA PREPARATION"
   ]
  },
  {
   "cell_type": "markdown",
   "metadata": {},
   "source": [
    "To make sure the code will run correctly, please change the file path with your s3 bucket directory in AWS or your local directory\n",
    "\n",
    "The basic data preparation and loading structure is:\n",
    "1. Import the files from s3 bucket as data frames\n",
    "2. Join the data frames with common key \n",
    "3. Perform data wrangling (drop unnecessary columns, create new column)\n",
    "4. Build one data frame with all the informations we will drive insights from\n",
    "5. Covert this data frame to table for furthur queries"
   ]
  },
  {
   "cell_type": "markdown",
   "metadata": {},
   "source": [
    "## Import Data"
   ]
  },
  {
   "cell_type": "code",
   "execution_count": 1,
   "metadata": {},
   "outputs": [
    {
     "name": "stdout",
     "output_type": "stream",
     "text": [
      "Starting Spark application\n"
     ]
    },
    {
     "data": {
      "text/html": [
       "<table>\n",
       "<tr><th>ID</th><th>YARN Application ID</th><th>Kind</th><th>State</th><th>Spark UI</th><th>Driver log</th><th>Current session?</th></tr><tr><td>13</td><td>application_1605922107194_0015</td><td>pyspark</td><td>idle</td><td><a target=\"_blank\" href=\"http://ip-172-31-43-151.ec2.internal:20888/proxy/application_1605922107194_0015/\">Link</a></td><td><a target=\"_blank\" href=\"http://ip-172-31-46-203.ec2.internal:8042/node/containerlogs/container_1605922107194_0015_01_000001/livy\">Link</a></td><td>✔</td></tr></table>"
      ],
      "text/plain": [
       "<IPython.core.display.HTML object>"
      ]
     },
     "metadata": {},
     "output_type": "display_data"
    },
    {
     "data": {
      "application/vnd.jupyter.widget-view+json": {
       "model_id": "",
       "version_major": 2,
       "version_minor": 0
      },
      "text/plain": [
       "FloatProgress(value=0.0, bar_style='info', description='Progress:', layout=Layout(height='25px', width='50%'),…"
      ]
     },
     "metadata": {},
     "output_type": "display_data"
    },
    {
     "name": "stdout",
     "output_type": "stream",
     "text": [
      "SparkSession available as 'spark'.\n"
     ]
    },
    {
     "data": {
      "application/vnd.jupyter.widget-view+json": {
       "model_id": "",
       "version_major": 2,
       "version_minor": 0
      },
      "text/plain": [
       "FloatProgress(value=0.0, bar_style='info', description='Progress:', layout=Layout(height='25px', width='50%'),…"
      ]
     },
     "metadata": {},
     "output_type": "display_data"
    },
    {
     "name": "stdout",
     "output_type": "stream",
     "text": [
      "[Row(IATA_CODE='UA', AIRLINE_NAME='United Air Lines Inc.'), Row(IATA_CODE='AA', AIRLINE_NAME='American Airlines Inc.'), Row(IATA_CODE='US', AIRLINE_NAME='US Airways Inc.'), Row(IATA_CODE='F9', AIRLINE_NAME='Frontier Airlines Inc.'), Row(IATA_CODE='B6', AIRLINE_NAME='JetBlue Airways')]"
     ]
    }
   ],
   "source": [
    "#import airlines data as data frame\n",
    "airline_df = spark.read.option(\"inferSchema\", \"true\").option(\"header\", \"true\").csv(\"s3://aws-joyce-isom671/finalproject/airlines.csv\")\n",
    "airline_df.take(5)"
   ]
  },
  {
   "cell_type": "markdown",
   "metadata": {},
   "source": [
    "* Originally in the datasets, there is only one airport file which contains the airport code, name, city, state, country, latitude and longtitude. But since later on in the flights data, there are two columns \"ORIGIN_AIRPORT\" and \"DESTINATION_AIRPORT\" that both refer to the airport code in airport data. It would be challening to join the airport data with flights data with the two columns share the common key, so I just copied the aiport file, change the column names correspondingly. One is for origin airport, another one is for desination airport."
   ]
  },
  {
   "cell_type": "code",
   "execution_count": 2,
   "metadata": {},
   "outputs": [
    {
     "data": {
      "application/vnd.jupyter.widget-view+json": {
       "model_id": "",
       "version_major": 2,
       "version_minor": 0
      },
      "text/plain": [
       "FloatProgress(value=0.0, bar_style='info', description='Progress:', layout=Layout(height='25px', width='50%'),…"
      ]
     },
     "metadata": {},
     "output_type": "display_data"
    },
    {
     "name": "stdout",
     "output_type": "stream",
     "text": [
      "[Row(IATA_CODE_ORIGIN='ABE', AIRPORT_ORIGIN_NAME='Lehigh Valley International Airport', ORIGIN_CITY='Allentown', ORIGIN_STATE='PA', ORIGIN_COUNTRY='USA', ORIGIN_LATITUDE=40.65236, ORIGIN_LONGITUDE=-75.4404)]"
     ]
    }
   ],
   "source": [
    "#import airport_origin data\n",
    "#data frame\n",
    "airport_origin_df = spark.read.option(\"inferSchema\", \"true\").option(\"header\", \"true\").csv(\"s3://aws-joyce-isom671/finalproject/airports-origin.csv\")\n",
    "\n",
    "airport_origin_df.take(1)"
   ]
  },
  {
   "cell_type": "code",
   "execution_count": 3,
   "metadata": {},
   "outputs": [
    {
     "data": {
      "application/vnd.jupyter.widget-view+json": {
       "model_id": "",
       "version_major": 2,
       "version_minor": 0
      },
      "text/plain": [
       "FloatProgress(value=0.0, bar_style='info', description='Progress:', layout=Layout(height='25px', width='50%'),…"
      ]
     },
     "metadata": {},
     "output_type": "display_data"
    },
    {
     "name": "stdout",
     "output_type": "stream",
     "text": [
      "[Row(IATA_CODE_DESTINATION='ABE', AIRPORT_DESTINATION_NAME='Lehigh Valley International Airport', DESTINATION_CITY='Allentown', DESTINATION_STATE='PA', DESTINATION_COUNTRY='USA', DESTINATION_LATITUDE=40.65236, DESTINATION_LONGITUDE=-75.4404)]"
     ]
    }
   ],
   "source": [
    "#import airport-dest data\n",
    "#data frame\n",
    "airport_dest_df = spark.read.option(\"inferSchema\", \"true\").option(\"header\", \"true\").csv(\"s3://aws-joyce-isom671/finalproject/airports_dest.csv\")\n",
    "airport_dest_df.take(1)"
   ]
  },
  {
   "cell_type": "markdown",
   "metadata": {},
   "source": [
    "* In both the airport_origin and airport_destination data frame, columns \"LATITUDE\" and \"LONGTITUDE\" are not necessary because the city and state location is already shown in data frame. Also, \"COUNTRY\" is not necessary since this whole dataset is just about flights in 2015 in Unites States. We will create a new data frame without these 3 columns."
   ]
  },
  {
   "cell_type": "code",
   "execution_count": 4,
   "metadata": {},
   "outputs": [
    {
     "data": {
      "application/vnd.jupyter.widget-view+json": {
       "model_id": "",
       "version_major": 2,
       "version_minor": 0
      },
      "text/plain": [
       "FloatProgress(value=0.0, bar_style='info', description='Progress:', layout=Layout(height='25px', width='50%'),…"
      ]
     },
     "metadata": {},
     "output_type": "display_data"
    },
    {
     "name": "stdout",
     "output_type": "stream",
     "text": [
      "[Row(IATA_CODE_ORIGIN='ABE', AIRPORT_ORIGIN_NAME='Lehigh Valley International Airport', ORIGIN_CITY='Allentown', ORIGIN_STATE='PA')]"
     ]
    }
   ],
   "source": [
    "airport_origin_clean_df = airport_origin_df.select(\"IATA_CODE_ORIGIN\",\"AIRPORT_ORIGIN_NAME\",\"ORIGIN_CITY\",\"ORIGIN_STATE\")\n",
    "airport_origin_clean_df.take(1)"
   ]
  },
  {
   "cell_type": "code",
   "execution_count": 5,
   "metadata": {},
   "outputs": [
    {
     "data": {
      "application/vnd.jupyter.widget-view+json": {
       "model_id": "",
       "version_major": 2,
       "version_minor": 0
      },
      "text/plain": [
       "FloatProgress(value=0.0, bar_style='info', description='Progress:', layout=Layout(height='25px', width='50%'),…"
      ]
     },
     "metadata": {},
     "output_type": "display_data"
    },
    {
     "name": "stdout",
     "output_type": "stream",
     "text": [
      "[Row(IATA_CODE_DESTINATION='ABE', AIRPORT_DESTINATION_NAME='Lehigh Valley International Airport', DESTINATION_CITY='Allentown', DESTINATION_STATE='PA')]"
     ]
    }
   ],
   "source": [
    "airport_dest_clean_df = airport_dest_df.select(\"IATA_CODE_DESTINATION\",\"AIRPORT_DESTINATION_NAME\",\"DESTINATION_CITY\",\"DESTINATION_STATE\")\n",
    "airport_dest_clean_df.take(1)"
   ]
  },
  {
   "cell_type": "markdown",
   "metadata": {},
   "source": [
    "## Define Data Structure"
   ]
  },
  {
   "cell_type": "code",
   "execution_count": 6,
   "metadata": {},
   "outputs": [
    {
     "data": {
      "application/vnd.jupyter.widget-view+json": {
       "model_id": "",
       "version_major": 2,
       "version_minor": 0
      },
      "text/plain": [
       "FloatProgress(value=0.0, bar_style='info', description='Progress:', layout=Layout(height='25px', width='50%'),…"
      ]
     },
     "metadata": {},
     "output_type": "display_data"
    },
    {
     "name": "stdout",
     "output_type": "stream",
     "text": [
      "root\n",
      " |-- YEAR: integer (nullable = true)\n",
      " |-- MONTH: integer (nullable = true)\n",
      " |-- DAY: integer (nullable = true)\n",
      " |-- DAY_OF_WEEK: integer (nullable = true)\n",
      " |-- AIRLINE: string (nullable = true)\n",
      " |-- FLIGHT_NUMBER: integer (nullable = true)\n",
      " |-- TAIL_NUMBER: string (nullable = true)\n",
      " |-- ORIGIN_AIRPORT: string (nullable = true)\n",
      " |-- DESTINATION_AIRPORT: string (nullable = true)\n",
      " |-- SCHEDULED_DEPARTURE: integer (nullable = true)\n",
      " |-- DEPARTURE_TIME: integer (nullable = true)\n",
      " |-- DEPARTURE_DELAY: integer (nullable = true)\n",
      " |-- TAXI_OUT: integer (nullable = true)\n",
      " |-- WHEELS_OFF: integer (nullable = true)\n",
      " |-- SCHEDULED_TIME: integer (nullable = true)\n",
      " |-- ELAPSED_TIME: integer (nullable = true)\n",
      " |-- AIR_TIME: integer (nullable = true)\n",
      " |-- DISTANCE: integer (nullable = true)\n",
      " |-- WHEELS_ON: integer (nullable = true)\n",
      " |-- TAXI_IN: integer (nullable = true)\n",
      " |-- SCHEDULED_ARRIVAL: integer (nullable = true)\n",
      " |-- ARRIVAL_TIME: integer (nullable = true)\n",
      " |-- ARRIVAL_DELAY: integer (nullable = true)\n",
      " |-- DIVERTED: integer (nullable = true)\n",
      " |-- CANCELLED: integer (nullable = true)\n",
      " |-- CANCELLATION_REASON: string (nullable = true)\n",
      " |-- AIR_SYSTEM_DELAY: integer (nullable = true)\n",
      " |-- SECURITY_DELAY: integer (nullable = true)\n",
      " |-- AIRLINE_DELAY: integer (nullable = true)\n",
      " |-- LATE_AIRCRAFT_DELAY: integer (nullable = true)\n",
      " |-- WEATHER_DELAY: integer (nullable = true)"
     ]
    }
   ],
   "source": [
    "#import flights data\n",
    "#data frame\n",
    "flight_df = spark.read.option(\"inferSchema\", \"true\").option(\"header\", \"true\").csv(\"s3://aws-joyce-isom671/finalproject/flights.csv\")\n",
    "flight_df.printSchema()"
   ]
  },
  {
   "cell_type": "code",
   "execution_count": 7,
   "metadata": {
    "scrolled": true
   },
   "outputs": [
    {
     "data": {
      "application/vnd.jupyter.widget-view+json": {
       "model_id": "",
       "version_major": 2,
       "version_minor": 0
      },
      "text/plain": [
       "FloatProgress(value=0.0, bar_style='info', description='Progress:', layout=Layout(height='25px', width='50%'),…"
      ]
     },
     "metadata": {},
     "output_type": "display_data"
    },
    {
     "name": "stdout",
     "output_type": "stream",
     "text": [
      "[Row(YEAR=2015, MONTH=1, DAY=1, DAY_OF_WEEK=4, AIRLINE='AS', FLIGHT_NUMBER=98, TAIL_NUMBER='N407AS', ORIGIN_AIRPORT='ANC', DESTINATION_AIRPORT='SEA', SCHEDULED_DEPARTURE=5, DEPARTURE_TIME=2354, DEPARTURE_DELAY=-11, TAXI_OUT=21, WHEELS_OFF=15, SCHEDULED_TIME=205, ELAPSED_TIME=194, AIR_TIME=169, DISTANCE=1448, WHEELS_ON=404, TAXI_IN=4, SCHEDULED_ARRIVAL=430, ARRIVAL_TIME=408, ARRIVAL_DELAY=-22, DIVERTED=0, CANCELLED=0, CANCELLATION_REASON=None, AIR_SYSTEM_DELAY=None, SECURITY_DELAY=None, AIRLINE_DELAY=None, LATE_AIRCRAFT_DELAY=None, WEATHER_DELAY=None)]"
     ]
    }
   ],
   "source": [
    "#Look at the first row in flight_df dataframe\n",
    "flight_df.take(1)"
   ]
  },
  {
   "cell_type": "markdown",
   "metadata": {},
   "source": [
    "* Here we perform left join on the data frame level"
   ]
  },
  {
   "cell_type": "code",
   "execution_count": 8,
   "metadata": {},
   "outputs": [
    {
     "data": {
      "application/vnd.jupyter.widget-view+json": {
       "model_id": "",
       "version_major": 2,
       "version_minor": 0
      },
      "text/plain": [
       "FloatProgress(value=0.0, bar_style='info', description='Progress:', layout=Layout(height='25px', width='50%'),…"
      ]
     },
     "metadata": {},
     "output_type": "display_data"
    },
    {
     "name": "stdout",
     "output_type": "stream",
     "text": [
      "[Row(YEAR=2015, MONTH=1, DAY=1, DAY_OF_WEEK=4, AIRLINE='AS', FLIGHT_NUMBER=98, TAIL_NUMBER='N407AS', ORIGIN_AIRPORT='ANC', DESTINATION_AIRPORT='SEA', SCHEDULED_DEPARTURE=5, DEPARTURE_TIME=2354, DEPARTURE_DELAY=-11, TAXI_OUT=21, WHEELS_OFF=15, SCHEDULED_TIME=205, ELAPSED_TIME=194, AIR_TIME=169, DISTANCE=1448, WHEELS_ON=404, TAXI_IN=4, SCHEDULED_ARRIVAL=430, ARRIVAL_TIME=408, ARRIVAL_DELAY=-22, DIVERTED=0, CANCELLED=0, CANCELLATION_REASON=None, AIR_SYSTEM_DELAY=None, SECURITY_DELAY=None, AIRLINE_DELAY=None, LATE_AIRCRAFT_DELAY=None, WEATHER_DELAY=None, IATA_CODE='AS', AIRLINE_NAME='Alaska Airlines Inc.')]"
     ]
    }
   ],
   "source": [
    "#Merge flights data with airline data\n",
    "first_df = flight_df.join(airline_df, flight_df.AIRLINE == airline_df.IATA_CODE,how='left')\n",
    "first_df.take(1)"
   ]
  },
  {
   "cell_type": "code",
   "execution_count": 9,
   "metadata": {},
   "outputs": [
    {
     "data": {
      "application/vnd.jupyter.widget-view+json": {
       "model_id": "",
       "version_major": 2,
       "version_minor": 0
      },
      "text/plain": [
       "FloatProgress(value=0.0, bar_style='info', description='Progress:', layout=Layout(height='25px', width='50%'),…"
      ]
     },
     "metadata": {},
     "output_type": "display_data"
    },
    {
     "name": "stdout",
     "output_type": "stream",
     "text": [
      "[Row(YEAR=2015, MONTH=1, DAY=1, DAY_OF_WEEK=4, AIRLINE='AS', FLIGHT_NUMBER=98, TAIL_NUMBER='N407AS', ORIGIN_AIRPORT='ANC', DESTINATION_AIRPORT='SEA', SCHEDULED_DEPARTURE=5, DEPARTURE_TIME=2354, DEPARTURE_DELAY=-11, TAXI_OUT=21, WHEELS_OFF=15, SCHEDULED_TIME=205, ELAPSED_TIME=194, AIR_TIME=169, DISTANCE=1448, WHEELS_ON=404, TAXI_IN=4, SCHEDULED_ARRIVAL=430, ARRIVAL_TIME=408, ARRIVAL_DELAY=-22, DIVERTED=0, CANCELLED=0, CANCELLATION_REASON=None, AIR_SYSTEM_DELAY=None, SECURITY_DELAY=None, AIRLINE_DELAY=None, LATE_AIRCRAFT_DELAY=None, WEATHER_DELAY=None, IATA_CODE='AS', AIRLINE_NAME='Alaska Airlines Inc.', IATA_CODE_ORIGIN='ANC', AIRPORT_ORIGIN_NAME='Ted Stevens Anchorage International Airport', ORIGIN_CITY='Anchorage', ORIGIN_STATE='AK')]"
     ]
    }
   ],
   "source": [
    "#merge with the airports-origin data frame --> a whole big data frame\n",
    "second_df = first_df.join(airport_origin_clean_df, first_df.ORIGIN_AIRPORT == airport_origin_clean_df.IATA_CODE_ORIGIN,how='left')\n",
    "second_df.take(1)"
   ]
  },
  {
   "cell_type": "code",
   "execution_count": 10,
   "metadata": {},
   "outputs": [
    {
     "data": {
      "application/vnd.jupyter.widget-view+json": {
       "model_id": "",
       "version_major": 2,
       "version_minor": 0
      },
      "text/plain": [
       "FloatProgress(value=0.0, bar_style='info', description='Progress:', layout=Layout(height='25px', width='50%'),…"
      ]
     },
     "metadata": {},
     "output_type": "display_data"
    },
    {
     "name": "stdout",
     "output_type": "stream",
     "text": [
      "[Row(YEAR=2015, MONTH=1, DAY=1, DAY_OF_WEEK=4, AIRLINE='AS', FLIGHT_NUMBER=98, TAIL_NUMBER='N407AS', ORIGIN_AIRPORT='ANC', DESTINATION_AIRPORT='SEA', SCHEDULED_DEPARTURE=5, DEPARTURE_TIME=2354, DEPARTURE_DELAY=-11, TAXI_OUT=21, WHEELS_OFF=15, SCHEDULED_TIME=205, ELAPSED_TIME=194, AIR_TIME=169, DISTANCE=1448, WHEELS_ON=404, TAXI_IN=4, SCHEDULED_ARRIVAL=430, ARRIVAL_TIME=408, ARRIVAL_DELAY=-22, DIVERTED=0, CANCELLED=0, CANCELLATION_REASON=None, AIR_SYSTEM_DELAY=None, SECURITY_DELAY=None, AIRLINE_DELAY=None, LATE_AIRCRAFT_DELAY=None, WEATHER_DELAY=None, IATA_CODE='AS', AIRLINE_NAME='Alaska Airlines Inc.', IATA_CODE_ORIGIN='ANC', AIRPORT_ORIGIN_NAME='Ted Stevens Anchorage International Airport', ORIGIN_CITY='Anchorage', ORIGIN_STATE='AK', IATA_CODE_DESTINATION='SEA', AIRPORT_DESTINATION_NAME='Seattle-Tacoma International Airport', DESTINATION_CITY='Seattle', DESTINATION_STATE='WA')]"
     ]
    }
   ],
   "source": [
    "whole_df = second_df.join(airport_dest_clean_df, second_df.DESTINATION_AIRPORT == airport_dest_clean_df.IATA_CODE_DESTINATION,how='left')\n",
    "whole_df.take(1)"
   ]
  },
  {
   "cell_type": "markdown",
   "metadata": {},
   "source": [
    "* As you can see from the above data frame result, since we did left join based on the airport code, we will have 4 repeated columns, 2 each for origin and destination. \"ORIGIN_AIRPORT\" = \"IATA_CODE_ORIGIN\", \"DESTINATION_AIRPORT\" = \"IATA_CODE_DESTINATION\". In this case, we will only keeo \"ORIGIN_AIRPORT\" and \"DESTINATION_AIRPORT\""
   ]
  },
  {
   "cell_type": "code",
   "execution_count": 11,
   "metadata": {},
   "outputs": [
    {
     "data": {
      "application/vnd.jupyter.widget-view+json": {
       "model_id": "",
       "version_major": 2,
       "version_minor": 0
      },
      "text/plain": [
       "FloatProgress(value=0.0, bar_style='info', description='Progress:', layout=Layout(height='25px', width='50%'),…"
      ]
     },
     "metadata": {},
     "output_type": "display_data"
    },
    {
     "name": "stdout",
     "output_type": "stream",
     "text": [
      "[Row(YEAR=2015, MONTH=1, DAY=1, DAY_OF_WEEK=4, AIRLINE='AS', FLIGHT_NUMBER=98, TAIL_NUMBER='N407AS', ORIGIN_AIRPORT='ANC', DESTINATION_AIRPORT='SEA', SCHEDULED_DEPARTURE=5, DEPARTURE_TIME=2354, DEPARTURE_DELAY=-11, TAXI_OUT=21, WHEELS_OFF=15, SCHEDULED_TIME=205, ELAPSED_TIME=194, AIR_TIME=169, DISTANCE=1448, WHEELS_ON=404, TAXI_IN=4, SCHEDULED_ARRIVAL=430, ARRIVAL_TIME=408, ARRIVAL_DELAY=-22, DIVERTED=0, CANCELLED=0, CANCELLATION_REASON=None, AIR_SYSTEM_DELAY=None, SECURITY_DELAY=None, AIRLINE_DELAY=None, LATE_AIRCRAFT_DELAY=None, WEATHER_DELAY=None, IATA_CODE='AS', AIRLINE_NAME='Alaska Airlines Inc.', AIRPORT_ORIGIN_NAME='Ted Stevens Anchorage International Airport', ORIGIN_CITY='Anchorage', ORIGIN_STATE='AK', AIRPORT_DESTINATION_NAME='Seattle-Tacoma International Airport', DESTINATION_CITY='Seattle', DESTINATION_STATE='WA')]"
     ]
    }
   ],
   "source": [
    "#drop the repetitive columns\n",
    "whole_df = whole_df.drop('IATA_CODE_ORIGIN','IATA_CODE_DESTINATION')\n",
    "whole_df.take(1)"
   ]
  },
  {
   "cell_type": "markdown",
   "metadata": {},
   "source": [
    "* Create a new column where it calculates the different between arrival delay and departure delay\n",
    "* Negative value means the arrival delay is less than departure delay, which means the airlines catch up with time between departure and arrival\n",
    "* Positive value means the arrival delay is bigger than departure delay, which means the airlines was more delayed than it originally was, failed to catch up the delay from origin."
   ]
  },
  {
   "cell_type": "code",
   "execution_count": 12,
   "metadata": {},
   "outputs": [
    {
     "data": {
      "application/vnd.jupyter.widget-view+json": {
       "model_id": "",
       "version_major": 2,
       "version_minor": 0
      },
      "text/plain": [
       "FloatProgress(value=0.0, bar_style='info', description='Progress:', layout=Layout(height='25px', width='50%'),…"
      ]
     },
     "metadata": {},
     "output_type": "display_data"
    },
    {
     "name": "stdout",
     "output_type": "stream",
     "text": [
      "[Row(YEAR=2015, MONTH=1, DAY=1, DAY_OF_WEEK=4, AIRLINE='AS', FLIGHT_NUMBER=98, TAIL_NUMBER='N407AS', ORIGIN_AIRPORT='ANC', DESTINATION_AIRPORT='SEA', SCHEDULED_DEPARTURE=5, DEPARTURE_TIME=2354, DEPARTURE_DELAY=-11, TAXI_OUT=21, WHEELS_OFF=15, SCHEDULED_TIME=205, ELAPSED_TIME=194, AIR_TIME=169, DISTANCE=1448, WHEELS_ON=404, TAXI_IN=4, SCHEDULED_ARRIVAL=430, ARRIVAL_TIME=408, ARRIVAL_DELAY=-22, DIVERTED=0, CANCELLED=0, CANCELLATION_REASON=None, AIR_SYSTEM_DELAY=None, SECURITY_DELAY=None, AIRLINE_DELAY=None, LATE_AIRCRAFT_DELAY=None, WEATHER_DELAY=None, IATA_CODE='AS', AIRLINE_NAME='Alaska Airlines Inc.', AIRPORT_ORIGIN_NAME='Ted Stevens Anchorage International Airport', ORIGIN_CITY='Anchorage', ORIGIN_STATE='AK', AIRPORT_DESTINATION_NAME='Seattle-Tacoma International Airport', DESTINATION_CITY='Seattle', DESTINATION_STATE='WA', DELAY_DIFF=-11)]"
     ]
    }
   ],
   "source": [
    "#create a new column\n",
    "import pyspark.sql.functions as F\n",
    "whole_df1 = whole_df.withColumn(\"DELAY_DIFF\",F.col(\"ARRIVAL_DELAY\")-F.col(\"DEPARTURE_DELAY\"))\n",
    "whole_df1.take(1)"
   ]
  },
  {
   "cell_type": "code",
   "execution_count": 13,
   "metadata": {},
   "outputs": [
    {
     "data": {
      "application/vnd.jupyter.widget-view+json": {
       "model_id": "",
       "version_major": 2,
       "version_minor": 0
      },
      "text/plain": [
       "FloatProgress(value=0.0, bar_style='info', description='Progress:', layout=Layout(height='25px', width='50%'),…"
      ]
     },
     "metadata": {},
     "output_type": "display_data"
    }
   ],
   "source": [
    "#infer schema and register whole_df as table\n",
    "whole_df1.registerTempTable(\"data\") "
   ]
  },
  {
   "cell_type": "code",
   "execution_count": 14,
   "metadata": {},
   "outputs": [
    {
     "data": {
      "application/vnd.jupyter.widget-view+json": {
       "model_id": "",
       "version_major": 2,
       "version_minor": 0
      },
      "text/plain": [
       "FloatProgress(value=0.0, bar_style='info', description='Progress:', layout=Layout(height='25px', width='50%'),…"
      ]
     },
     "metadata": {},
     "output_type": "display_data"
    }
   ],
   "source": [
    "#run correlation to see the relationship \n",
    "#from pyspark.ml import Statistics\n",
    "#whole_df1.stat.corr(\"TAXI_IN\",\"ARRIVAL_DELAY\")"
   ]
  },
  {
   "cell_type": "markdown",
   "metadata": {},
   "source": [
    "# QUERIES"
   ]
  },
  {
   "cell_type": "markdown",
   "metadata": {},
   "source": [
    "We will build the queries of flights delay insights from 3 angles:\n",
    "1. Airline\n",
    "2. Airport\n",
    "3. Time of the year (month and day of week)\n",
    "\n",
    "We will use window functions to create ranking for most table results. Since our objective is about flights' delay time, ranking #1 means the delay time is highest (which is not good). The higher the rank (1 is the highest), the more delay time. There are negative values in delay time, which mean the flight departures/arrives earlier than scheduled."
   ]
  },
  {
   "cell_type": "markdown",
   "metadata": {},
   "source": [
    "## Airline"
   ]
  },
  {
   "cell_type": "code",
   "execution_count": 15,
   "metadata": {},
   "outputs": [
    {
     "data": {
      "application/vnd.jupyter.widget-view+json": {
       "model_id": "",
       "version_major": 2,
       "version_minor": 0
      },
      "text/plain": [
       "FloatProgress(value=0.0, bar_style='info', description='Progress:', layout=Layout(height='25px', width='50%'),…"
      ]
     },
     "metadata": {},
     "output_type": "display_data"
    },
    {
     "name": "stdout",
     "output_type": "stream",
     "text": [
      "+-------+--------------------+-----------+\n",
      "|AIRLINE|        AIRLINE_NAME|num_flights|\n",
      "+-------+--------------------+-----------+\n",
      "|     WN|Southwest Airline...|    1261855|\n",
      "|     DL|Delta Air Lines Inc.|     875881|\n",
      "|     AA|American Airlines...|     725984|\n",
      "|     OO|Skywest Airlines ...|     588353|\n",
      "|     EV|Atlantic Southeas...|     571977|\n",
      "|     UA|United Air Lines ...|     515723|\n",
      "|     MQ|American Eagle Ai...|     294632|\n",
      "|     B6|     JetBlue Airways|     267048|\n",
      "|     US|     US Airways Inc.|     198715|\n",
      "|     AS|Alaska Airlines Inc.|     172521|\n",
      "|     NK|    Spirit Air Lines|     117379|\n",
      "|     F9|Frontier Airlines...|      90836|\n",
      "|     HA|Hawaiian Airlines...|      76272|\n",
      "|     VX|      Virgin America|      61903|\n",
      "+-------+--------------------+-----------+"
     ]
    }
   ],
   "source": [
    "#find which airline have the highest numbers of flights in 2015\n",
    "flights_count = spark.sql(\"SELECT AIRLINE, AIRLINE_NAME, COUNT(AIRLINE) num_flights FROM data GROUP BY AIRLINE,AIRLINE_NAME ORDER BY num_flights DESC\")\n",
    "flights_count.show()"
   ]
  },
  {
   "cell_type": "code",
   "execution_count": 16,
   "metadata": {},
   "outputs": [
    {
     "data": {
      "application/vnd.jupyter.widget-view+json": {
       "model_id": "",
       "version_major": 2,
       "version_minor": 0
      },
      "text/plain": [
       "FloatProgress(value=0.0, bar_style='info', description='Progress:', layout=Layout(height='25px', width='50%'),…"
      ]
     },
     "metadata": {},
     "output_type": "display_data"
    },
    {
     "name": "stdout",
     "output_type": "stream",
     "text": [
      "+-------+--------------------+-------------------+---------------+\n",
      "|AIRLINE|        AIRLINE_NAME|   delay_difference|RANK_DELAY_DIFF|\n",
      "+-------+--------------------+-------------------+---------------+\n",
      "|     HA|Hawaiian Airlines...| 1.5531752607146145|              1|\n",
      "|     F9|Frontier Airlines...|-0.7986457986457987|              2|\n",
      "|     NK|    Spirit Air Lines|-1.4113010339169916|              3|\n",
      "|     OO|Skywest Airlines ...|-1.8904308841324933|              4|\n",
      "|     EV|Atlantic Southeas...|-2.0302189086294415|              5|\n",
      "|     US|     US Airways Inc.| -2.374790833217487|              6|\n",
      "|     AS|Alaska Airlines Inc.| -2.695489357730738|              7|\n",
      "|     MQ|American Eagle Ai...|-3.5093134283387912|              8|\n",
      "|     VX|      Virgin America| -4.255779780564263|              9|\n",
      "|     B6|     JetBlue Airways| -4.764606437136032|             10|\n",
      "|     AA|American Airlines...| -5.374734022035669|             11|\n",
      "|     WN|Southwest Airline...| -6.142219553558708|             12|\n",
      "|     DL|Delta Air Lines Inc.| -7.126546206658815|             13|\n",
      "|     UA|United Air Lines ...| -8.901461708438205|             14|\n",
      "+-------+--------------------+-------------------+---------------+"
     ]
    }
   ],
   "source": [
    "#Find the average delay difference for each airline\n",
    "#positive means arrival delay is larger than departure delay\n",
    "flight_delay_difference = spark.sql(\"SELECT AIRLINE,AIRLINE_NAME, AVG(DELAY_DIFF) delay_difference, rank(AVG(DELAY_DIFF)) OVER(ORDER BY AVG(DELAY_DIFF) DESC) as RANK_DELAY_DIFF from data GROUP BY AIRLINE,AIRLINE_NAME ORDER BY delay_difference DESC\")\n",
    "flight_delay_difference.show()"
   ]
  },
  {
   "cell_type": "code",
   "execution_count": 17,
   "metadata": {},
   "outputs": [
    {
     "data": {
      "application/vnd.jupyter.widget-view+json": {
       "model_id": "",
       "version_major": 2,
       "version_minor": 0
      },
      "text/plain": [
       "FloatProgress(value=0.0, bar_style='info', description='Progress:', layout=Layout(height='25px', width='50%'),…"
      ]
     },
     "metadata": {},
     "output_type": "display_data"
    }
   ],
   "source": [
    "#save the query results to a table\n",
    "flight_delay_difference.registerTempTable(\"rank_delay_diff\")"
   ]
  },
  {
   "cell_type": "code",
   "execution_count": 18,
   "metadata": {},
   "outputs": [
    {
     "data": {
      "application/vnd.jupyter.widget-view+json": {
       "model_id": "",
       "version_major": 2,
       "version_minor": 0
      },
      "text/plain": [
       "FloatProgress(value=0.0, bar_style='info', description='Progress:', layout=Layout(height='25px', width='50%'),…"
      ]
     },
     "metadata": {},
     "output_type": "display_data"
    },
    {
     "name": "stdout",
     "output_type": "stream",
     "text": [
      "+-------+--------------------+-------------------+--------------------+\n",
      "|AIRLINE|        AIRLINE_NAME|      avg_dep_delay|RANK_DEPARTURE_DELAY|\n",
      "+-------+--------------------+-------------------+--------------------+\n",
      "|     NK|    Spirit Air Lines| 15.944765880783688|                   1|\n",
      "|     UA|United Air Lines ...| 14.435441010805953|                   2|\n",
      "|     F9|Frontier Airlines...| 13.350858345331709|                   3|\n",
      "|     B6|     JetBlue Airways|   11.5143526744102|                   4|\n",
      "|     WN|Southwest Airline...| 10.581986295158847|                   5|\n",
      "|     MQ|American Eagle Ai...| 10.125188203309524|                   6|\n",
      "|     VX|      Virgin America|  9.022595096521952|                   7|\n",
      "|     AA|American Airlines...|  8.900856346719806|                   8|\n",
      "|     EV|Atlantic Southeas...|   8.71593449776958|                   9|\n",
      "|     OO|Skywest Airlines ...|  7.801103808415331|                  10|\n",
      "|     DL|Delta Air Lines Inc.|   7.36925417661782|                  11|\n",
      "|     US|     US Airways Inc.|  6.141136917746696|                  12|\n",
      "|     AS|Alaska Airlines Inc.| 1.7858007096736666|                  13|\n",
      "|     HA|Hawaiian Airlines...|0.48571315965790407|                  14|\n",
      "+-------+--------------------+-------------------+--------------------+"
     ]
    }
   ],
   "source": [
    "#Rank the airlines based on average departure delays\n",
    "avg_departure_delay = spark.sql(\"SELECT AIRLINE, AIRLINE_NAME, AVG(DEPARTURE_DELAY) avg_dep_delay , rank(AVG(DEPARTURE_DELAY)) OVER(ORDER BY AVG(DEPARTURE_DELAY) DESC) as RANK_DEPARTURE_DELAY from data GROUP BY AIRLINE,AIRLINE_NAME ORDER BY avg_dep_delay DESC\")\n",
    "avg_departure_delay.show()"
   ]
  },
  {
   "cell_type": "code",
   "execution_count": 19,
   "metadata": {},
   "outputs": [
    {
     "data": {
      "application/vnd.jupyter.widget-view+json": {
       "model_id": "",
       "version_major": 2,
       "version_minor": 0
      },
      "text/plain": [
       "FloatProgress(value=0.0, bar_style='info', description='Progress:', layout=Layout(height='25px', width='50%'),…"
      ]
     },
     "metadata": {},
     "output_type": "display_data"
    }
   ],
   "source": [
    "#save the query results to a table\n",
    "avg_departure_delay.registerTempTable(\"rank_avg_dep_delay\") "
   ]
  },
  {
   "cell_type": "code",
   "execution_count": 20,
   "metadata": {},
   "outputs": [
    {
     "data": {
      "application/vnd.jupyter.widget-view+json": {
       "model_id": "",
       "version_major": 2,
       "version_minor": 0
      },
      "text/plain": [
       "FloatProgress(value=0.0, bar_style='info', description='Progress:', layout=Layout(height='25px', width='50%'),…"
      ]
     },
     "metadata": {},
     "output_type": "display_data"
    },
    {
     "name": "stdout",
     "output_type": "stream",
     "text": [
      "+-------+--------------------+-------------------+------------------+\n",
      "|AIRLINE|        AIRLINE_NAME|      avg_arr_delay|RANK_ARRIVAL_DELAY|\n",
      "+-------+--------------------+-------------------+------------------+\n",
      "|     NK|    Spirit Air Lines| 14.471799501705833|                 1|\n",
      "|     F9|Frontier Airlines...| 12.504706404706404|                 2|\n",
      "|     B6|     JetBlue Airways|  6.677860800940307|                 3|\n",
      "|     EV|Atlantic Southeas...|  6.585378691739733|                 4|\n",
      "|     MQ|American Eagle Ai...|  6.457873460764516|                 5|\n",
      "|     OO|Skywest Airlines ...|  5.845652151300072|                 6|\n",
      "|     UA|United Air Lines ...|  5.431593935741549|                 7|\n",
      "|     VX|      Virgin America|  4.737705721003135|                 8|\n",
      "|     WN|Southwest Airline...| 4.3749636792570525|                 9|\n",
      "|     US|     US Airways Inc.| 3.7062088424131026|                10|\n",
      "|     AA|American Airlines...| 3.4513721447256764|                11|\n",
      "|     HA|Hawaiian Airlines...|  2.023092805197196|                12|\n",
      "|     DL|Delta Air Lines Inc.|0.18675361236390797|                13|\n",
      "|     AS|Alaska Airlines Inc.|-0.9765630924118783|                14|\n",
      "+-------+--------------------+-------------------+------------------+"
     ]
    }
   ],
   "source": [
    "#Rank the airlines based on arrival delays\n",
    "avg_departure_delay = spark.sql(\"SELECT AIRLINE, AIRLINE_NAME, AVG(ARRIVAL_DELAY) avg_arr_delay, rank(AVG(ARRIVAL_DELAY)) OVER(ORDER BY AVG(ARRIVAL_DELAY) DESC) as RANK_ARRIVAL_DELAY FROM data GROUP BY AIRLINE,AIRLINE_NAME ORDER BY avg_arr_delay DESC\")\n",
    "avg_departure_delay.show()"
   ]
  },
  {
   "cell_type": "code",
   "execution_count": 21,
   "metadata": {},
   "outputs": [
    {
     "data": {
      "application/vnd.jupyter.widget-view+json": {
       "model_id": "",
       "version_major": 2,
       "version_minor": 0
      },
      "text/plain": [
       "FloatProgress(value=0.0, bar_style='info', description='Progress:', layout=Layout(height='25px', width='50%'),…"
      ]
     },
     "metadata": {},
     "output_type": "display_data"
    }
   ],
   "source": [
    "#save the query results to a table\n",
    "avg_departure_delay.registerTempTable(\"rank_avg_arr_delay\") "
   ]
  },
  {
   "cell_type": "markdown",
   "metadata": {},
   "source": [
    "* The table below shows the rank of average departure delay and rank of average arrival delay for each airline"
   ]
  },
  {
   "cell_type": "code",
   "execution_count": 22,
   "metadata": {},
   "outputs": [
    {
     "data": {
      "application/vnd.jupyter.widget-view+json": {
       "model_id": "",
       "version_major": 2,
       "version_minor": 0
      },
      "text/plain": [
       "FloatProgress(value=0.0, bar_style='info', description='Progress:', layout=Layout(height='25px', width='50%'),…"
      ]
     },
     "metadata": {},
     "output_type": "display_data"
    },
    {
     "name": "stdout",
     "output_type": "stream",
     "text": [
      "+-------+--------------------+--------------------+------------------+\n",
      "|AIRLINE|        AIRLINE_NAME|RANK_DEPARTURE_DELAY|RANK_ARRIVAL_DELAY|\n",
      "+-------+--------------------+--------------------+------------------+\n",
      "|     NK|    Spirit Air Lines|                   1|                 1|\n",
      "|     UA|United Air Lines ...|                   2|                 7|\n",
      "|     F9|Frontier Airlines...|                   3|                 2|\n",
      "|     B6|     JetBlue Airways|                   4|                 3|\n",
      "|     WN|Southwest Airline...|                   5|                 9|\n",
      "|     MQ|American Eagle Ai...|                   6|                 5|\n",
      "|     VX|      Virgin America|                   7|                 8|\n",
      "|     AA|American Airlines...|                   8|                11|\n",
      "|     EV|Atlantic Southeas...|                   9|                 4|\n",
      "|     OO|Skywest Airlines ...|                  10|                 6|\n",
      "|     DL|Delta Air Lines Inc.|                  11|                13|\n",
      "|     US|     US Airways Inc.|                  12|                10|\n",
      "|     AS|Alaska Airlines Inc.|                  13|                14|\n",
      "|     HA|Hawaiian Airlines...|                  14|                12|\n",
      "+-------+--------------------+--------------------+------------------+"
     ]
    }
   ],
   "source": [
    "#Merge the two tables based on airline, but only save the rankings in the new query\n",
    "avg_delay_rank = spark.sql(\"SELECT a.AIRLINE, a.AIRLINE_NAME,a.RANK_DEPARTURE_DELAY, b.RANK_ARRIVAL_DELAY FROM rank_avg_dep_delay a JOIN rank_avg_arr_delay b on a.AIRLINE=b.AIRLINE ORDER BY a.RANK_DEPARTURE_DELAY ASC\")\n",
    "avg_delay_rank.show()"
   ]
  },
  {
   "cell_type": "code",
   "execution_count": 23,
   "metadata": {},
   "outputs": [
    {
     "data": {
      "application/vnd.jupyter.widget-view+json": {
       "model_id": "",
       "version_major": 2,
       "version_minor": 0
      },
      "text/plain": [
       "FloatProgress(value=0.0, bar_style='info', description='Progress:', layout=Layout(height='25px', width='50%'),…"
      ]
     },
     "metadata": {},
     "output_type": "display_data"
    },
    {
     "name": "stdout",
     "output_type": "stream",
     "text": [
      "+-----+-------+--------------------+--------------------+\n",
      "|MONTH|AIRLINE|        AIRLINE_NAME|       avg_dep_delay|\n",
      "+-----+-------+--------------------+--------------------+\n",
      "|    1|     AA|American Airlines...|  10.593542260208928|\n",
      "|    2|     AA|American Airlines...|  10.258853469059737|\n",
      "|    3|     AA|American Airlines...|    11.0866277765313|\n",
      "|    4|     AA|American Airlines...|   10.55527802155764|\n",
      "|    5|     AA|American Airlines...|  11.111627694972423|\n",
      "|    6|     AA|American Airlines...|  14.182827822120867|\n",
      "|    7|     AA|American Airlines...|   9.721148618593388|\n",
      "|    8|     AA|American Airlines...|   9.357355267320468|\n",
      "|    9|     AA|American Airlines...|   4.966656628979715|\n",
      "|   10|     AA|American Airlines...|   5.313371455428482|\n",
      "|   11|     AA|American Airlines...|   6.446925394293816|\n",
      "|   12|     AA|American Airlines...|   9.118865071364143|\n",
      "|    1|     AS|Alaska Airlines Inc.|  3.1782088195181086|\n",
      "|    2|     AS|Alaska Airlines Inc.|  2.7038140150574996|\n",
      "|    3|     AS|Alaska Airlines Inc.|  3.0635622980755723|\n",
      "|    4|     AS|Alaska Airlines Inc.|0.004241552839683681|\n",
      "|    5|     AS|Alaska Airlines Inc.| -0.1971176832183594|\n",
      "|    6|     AS|Alaska Airlines Inc.|  1.9404872853148716|\n",
      "|    7|     AS|Alaska Airlines Inc.|     2.5617315249081|\n",
      "|    8|     AS|Alaska Airlines Inc.|  3.6687624501992033|\n",
      "+-----+-------+--------------------+--------------------+\n",
      "only showing top 20 rows"
     ]
    }
   ],
   "source": [
    "#Finding the airline's average departure delay for each month\n",
    "avg_dep_delay_month = spark.sql(\"SELECT MONTH, AIRLINE,AIRLINE_NAME, AVG(DEPARTURE_DELAY) avg_dep_delay FROM data GROUP BY MONTH,AIRLINE ,AIRLINE_NAME ORDER BY AIRLINE ASC,MONTH ASC\")\n",
    "avg_dep_delay_month.show()"
   ]
  },
  {
   "cell_type": "code",
   "execution_count": 24,
   "metadata": {},
   "outputs": [
    {
     "data": {
      "application/vnd.jupyter.widget-view+json": {
       "model_id": "",
       "version_major": 2,
       "version_minor": 0
      },
      "text/plain": [
       "FloatProgress(value=0.0, bar_style='info', description='Progress:', layout=Layout(height='25px', width='50%'),…"
      ]
     },
     "metadata": {},
     "output_type": "display_data"
    }
   ],
   "source": [
    "#save the query results to a table\n",
    "avg_dep_delay_month.registerTempTable(\"average_dep_delay_tb\") "
   ]
  },
  {
   "cell_type": "markdown",
   "metadata": {},
   "source": [
    "* The table below shows the moving average of the average departure delay for each airline every two months"
   ]
  },
  {
   "cell_type": "code",
   "execution_count": 25,
   "metadata": {},
   "outputs": [
    {
     "data": {
      "application/vnd.jupyter.widget-view+json": {
       "model_id": "",
       "version_major": 2,
       "version_minor": 0
      },
      "text/plain": [
       "FloatProgress(value=0.0, bar_style='info', description='Progress:', layout=Layout(height='25px', width='50%'),…"
      ]
     },
     "metadata": {},
     "output_type": "display_data"
    },
    {
     "name": "stdout",
     "output_type": "stream",
     "text": [
      "+-----+-------+--------------------+--------------------+------------------------+\n",
      "|MONTH|AIRLINE|        AIRLINE_NAME|       avg_dep_delay|moving_average_dep_delay|\n",
      "+-----+-------+--------------------+--------------------+------------------------+\n",
      "|    1|     AA|American Airlines...|  10.593542260208928|      10.593542260208928|\n",
      "|    2|     AA|American Airlines...|  10.258853469059737|      10.426197864634332|\n",
      "|    3|     AA|American Airlines...|    11.0866277765313|       10.67274062279552|\n",
      "|    4|     AA|American Airlines...|   10.55527802155764|      10.820952899044471|\n",
      "|    5|     AA|American Airlines...|  11.111627694972423|      10.833452858265032|\n",
      "|    6|     AA|American Airlines...|  14.182827822120867|      12.647227758546645|\n",
      "|    7|     AA|American Airlines...|   9.721148618593388|      11.951988220357126|\n",
      "|    8|     AA|American Airlines...|   9.357355267320468|       9.539251942956927|\n",
      "|    9|     AA|American Airlines...|   4.966656628979715|      7.1620059481500915|\n",
      "|   10|     AA|American Airlines...|   5.313371455428482|       5.140014042204099|\n",
      "|   11|     AA|American Airlines...|   6.446925394293816|       5.880148424861149|\n",
      "|   12|     AA|American Airlines...|   9.118865071364143|       7.782895232828979|\n",
      "|    1|     AS|Alaska Airlines Inc.|  3.1782088195181086|      3.1782088195181086|\n",
      "|    2|     AS|Alaska Airlines Inc.|  2.7038140150574996|       2.941011417287804|\n",
      "|    3|     AS|Alaska Airlines Inc.|  3.0635622980755723|       2.883688156566536|\n",
      "|    4|     AS|Alaska Airlines Inc.|0.004241552839683681|       1.533901925457628|\n",
      "|    5|     AS|Alaska Airlines Inc.| -0.1971176832183594|    -0.09643806518933785|\n",
      "|    6|     AS|Alaska Airlines Inc.|  1.9404872853148716|      0.8716848010482561|\n",
      "|    7|     AS|Alaska Airlines Inc.|     2.5617315249081|      2.2511094051114857|\n",
      "|    8|     AS|Alaska Airlines Inc.|  3.6687624501992033|      3.1152469875536517|\n",
      "+-----+-------+--------------------+--------------------+------------------------+\n",
      "only showing top 20 rows"
     ]
    }
   ],
   "source": [
    "#find moving average departure delay\n",
    "ma_dep_delay = spark.sql(\"SELECT MONTH,AIRLINE,AIRLINE_NAME, avg_dep_delay, AVG(avg_dep_delay) OVER(PARTITION BY AIRLINE ROWS BETWEEN 1 PRECEDING AND CURRENT ROW) AS moving_average_dep_delay FROM average_dep_delay_tb ORDER BY AIRLINE ASC, MONTH ASC\")\n",
    "ma_dep_delay.show()"
   ]
  },
  {
   "cell_type": "code",
   "execution_count": 26,
   "metadata": {},
   "outputs": [
    {
     "data": {
      "application/vnd.jupyter.widget-view+json": {
       "model_id": "",
       "version_major": 2,
       "version_minor": 0
      },
      "text/plain": [
       "FloatProgress(value=0.0, bar_style='info', description='Progress:', layout=Layout(height='25px', width='50%'),…"
      ]
     },
     "metadata": {},
     "output_type": "display_data"
    },
    {
     "name": "stdout",
     "output_type": "stream",
     "text": [
      "+-------+--------------------+------------------+-------------+\n",
      "|AIRLINE|        AIRLINE_NAME|     avg(TAXI_OUT)|RANK_TAXI_OUT|\n",
      "+-------+--------------------+------------------+-------------+\n",
      "|     US|     US Airways Inc.| 19.00685761837739|            1|\n",
      "|     OO|Skywest Airlines ...| 18.14606960978636|            2|\n",
      "|     B6|     JetBlue Airways| 17.87245321216826|            3|\n",
      "|     AA|American Airlines...|17.769169671960366|            4|\n",
      "|     DL|Delta Air Lines Inc.|17.608081238949012|            5|\n",
      "|     UA|United Air Lines ...| 17.41400330718744|            6|\n",
      "|     EV|Atlantic Southeas...| 16.73697083319865|            7|\n",
      "|     MQ|American Eagle Ai...|16.549322913687583|            8|\n",
      "|     F9|Frontier Airlines...|15.674197766155483|            9|\n",
      "|     AS|Alaska Airlines Inc.|15.093937084378146|           10|\n",
      "|     VX|      Virgin America|14.755853932767359|           11|\n",
      "|     NK|    Spirit Air Lines|14.604655798514512|           12|\n",
      "|     WN|Southwest Airline...| 11.94368238812487|           13|\n",
      "|     HA|Hawaiian Airlines...|10.953551015045004|           14|\n",
      "+-------+--------------------+------------------+-------------+"
     ]
    }
   ],
   "source": [
    "#find average Taxi_Out for each airline\n",
    "avg_taxi_out_rank = spark.sql(\"SELECT AIRLINE, AIRLINE_NAME, AVG(TAXI_OUT), rank(AVG(TAXI_OUT)) OVER(ORDER BY AVG(TAXI_OUT) DESC)as RANK_TAXI_OUT FROM data GROUP BY AIRLINE,AIRLINE_NAME ORDER BY RANK_TAXI_OUT ASC \")\n",
    "avg_taxi_out_rank.show()"
   ]
  },
  {
   "cell_type": "code",
   "execution_count": 27,
   "metadata": {},
   "outputs": [
    {
     "data": {
      "application/vnd.jupyter.widget-view+json": {
       "model_id": "",
       "version_major": 2,
       "version_minor": 0
      },
      "text/plain": [
       "FloatProgress(value=0.0, bar_style='info', description='Progress:', layout=Layout(height='25px', width='50%'),…"
      ]
     },
     "metadata": {},
     "output_type": "display_data"
    }
   ],
   "source": [
    "#save the query results in the table\n",
    "avg_taxi_out_rank.registerTempTable(\"rank_avg_taxi_out\")"
   ]
  },
  {
   "cell_type": "markdown",
   "metadata": {},
   "source": [
    "* This table below shows the ranking of average taxi out and average departure delay for each airline"
   ]
  },
  {
   "cell_type": "code",
   "execution_count": 28,
   "metadata": {},
   "outputs": [
    {
     "data": {
      "application/vnd.jupyter.widget-view+json": {
       "model_id": "",
       "version_major": 2,
       "version_minor": 0
      },
      "text/plain": [
       "FloatProgress(value=0.0, bar_style='info', description='Progress:', layout=Layout(height='25px', width='50%'),…"
      ]
     },
     "metadata": {},
     "output_type": "display_data"
    },
    {
     "name": "stdout",
     "output_type": "stream",
     "text": [
      "+-------+--------------------+-------------+--------------------+\n",
      "|AIRLINE|        AIRLINE_NAME|RANK_TAXI_OUT|RANK_DEPARTURE_DELAY|\n",
      "+-------+--------------------+-------------+--------------------+\n",
      "|     US|     US Airways Inc.|            1|                  12|\n",
      "|     OO|Skywest Airlines ...|            2|                  10|\n",
      "|     B6|     JetBlue Airways|            3|                   4|\n",
      "|     AA|American Airlines...|            4|                   8|\n",
      "|     DL|Delta Air Lines Inc.|            5|                  11|\n",
      "|     UA|United Air Lines ...|            6|                   2|\n",
      "|     EV|Atlantic Southeas...|            7|                   9|\n",
      "|     MQ|American Eagle Ai...|            8|                   6|\n",
      "|     F9|Frontier Airlines...|            9|                   3|\n",
      "|     AS|Alaska Airlines Inc.|           10|                  13|\n",
      "|     VX|      Virgin America|           11|                   7|\n",
      "|     NK|    Spirit Air Lines|           12|                   1|\n",
      "|     WN|Southwest Airline...|           13|                   5|\n",
      "|     HA|Hawaiian Airlines...|           14|                  14|\n",
      "+-------+--------------------+-------------+--------------------+"
     ]
    }
   ],
   "source": [
    "#join rank_arr_delay with rank_avg_taxi_out\n",
    "join_out_delay_rank = spark.sql(\"SELECT a.AIRLINE,a.AIRLINE_NAME,a.RANK_TAXI_OUT,b.RANK_DEPARTURE_DELAY FROM rank_avg_taxi_out a LEFT OUTER JOIN rank_avg_dep_delay b on a.AIRLINE=b.AIRLINE ORDER BY RANK_TAXI_OUT ASC\")\n",
    "join_out_delay_rank.show()"
   ]
  },
  {
   "cell_type": "code",
   "execution_count": 29,
   "metadata": {},
   "outputs": [
    {
     "data": {
      "application/vnd.jupyter.widget-view+json": {
       "model_id": "",
       "version_major": 2,
       "version_minor": 0
      },
      "text/plain": [
       "FloatProgress(value=0.0, bar_style='info', description='Progress:', layout=Layout(height='25px', width='50%'),…"
      ]
     },
     "metadata": {},
     "output_type": "display_data"
    }
   ],
   "source": [
    "#save the query results in a table\n",
    "join_out_delay_rank.registerTempTable(\"rank_dep\")"
   ]
  },
  {
   "cell_type": "code",
   "execution_count": 30,
   "metadata": {},
   "outputs": [
    {
     "data": {
      "application/vnd.jupyter.widget-view+json": {
       "model_id": "",
       "version_major": 2,
       "version_minor": 0
      },
      "text/plain": [
       "FloatProgress(value=0.0, bar_style='info', description='Progress:', layout=Layout(height='25px', width='50%'),…"
      ]
     },
     "metadata": {},
     "output_type": "display_data"
    },
    {
     "name": "stdout",
     "output_type": "stream",
     "text": [
      "+-------+--------------------+------------------+------------+\n",
      "|AIRLINE|        AIRLINE_NAME|      avg(TAXI_IN)|RANK_TAXI_IN|\n",
      "+-------+--------------------+------------------+------------+\n",
      "|     NK|    Spirit Air Lines| 9.556557398368344|           1|\n",
      "|     F9|Frontier Airlines...| 9.147244295197881|           2|\n",
      "|     MQ|American Eagle Ai...|  9.08409589487208|           3|\n",
      "|     AA|American Airlines...| 8.876172090843598|           4|\n",
      "|     UA|United Air Lines ...|  8.50809170865133|           5|\n",
      "|     VX|      Virgin America| 8.186914364865967|           6|\n",
      "|     EV|Atlantic Southeas...| 7.635510625870513|           7|\n",
      "|     US|     US Airways Inc.| 7.631977634567749|           8|\n",
      "|     DL|Delta Air Lines Inc.|7.2090576710025625|           9|\n",
      "|     OO|Skywest Airlines ...| 6.933259854345498|          10|\n",
      "|     HA|Hawaiian Airlines...| 6.841194327993376|          11|\n",
      "|     AS|Alaska Airlines Inc.| 6.401666938471216|          12|\n",
      "|     WN|Southwest Airline...| 6.167661938889348|          13|\n",
      "|     B6|     JetBlue Airways| 6.121372584101992|          14|\n",
      "+-------+--------------------+------------------+------------+"
     ]
    }
   ],
   "source": [
    "#rank the avg_taxi_in\n",
    "avg_taxi_out_rank = spark.sql(\"SELECT AIRLINE, AIRLINE_NAME, AVG(TAXI_IN), rank(AVG(TAXI_IN)) OVER(ORDER BY AVG(TAXI_IN) DESC)as RANK_TAXI_IN FROM data GROUP BY AIRLINE,AIRLINE_NAME ORDER BY RANK_TAXI_IN ASC \")\n",
    "avg_taxi_out_rank.show()"
   ]
  },
  {
   "cell_type": "code",
   "execution_count": 31,
   "metadata": {},
   "outputs": [
    {
     "data": {
      "application/vnd.jupyter.widget-view+json": {
       "model_id": "",
       "version_major": 2,
       "version_minor": 0
      },
      "text/plain": [
       "FloatProgress(value=0.0, bar_style='info', description='Progress:', layout=Layout(height='25px', width='50%'),…"
      ]
     },
     "metadata": {},
     "output_type": "display_data"
    }
   ],
   "source": [
    "#save the query results in a table\n",
    "avg_taxi_out_rank.registerTempTable(\"rank_avg_taxi_in\")"
   ]
  },
  {
   "cell_type": "markdown",
   "metadata": {},
   "source": [
    "* This table below shows the ranking of average taxi in and average arrival delay for each airline"
   ]
  },
  {
   "cell_type": "code",
   "execution_count": 32,
   "metadata": {},
   "outputs": [
    {
     "data": {
      "application/vnd.jupyter.widget-view+json": {
       "model_id": "",
       "version_major": 2,
       "version_minor": 0
      },
      "text/plain": [
       "FloatProgress(value=0.0, bar_style='info', description='Progress:', layout=Layout(height='25px', width='50%'),…"
      ]
     },
     "metadata": {},
     "output_type": "display_data"
    },
    {
     "name": "stdout",
     "output_type": "stream",
     "text": [
      "+-------+--------------------+------------+------------------+\n",
      "|AIRLINE|        AIRLINE_NAME|RANK_TAXI_IN|RANK_ARRIVAL_DELAY|\n",
      "+-------+--------------------+------------+------------------+\n",
      "|     NK|    Spirit Air Lines|           1|                 1|\n",
      "|     F9|Frontier Airlines...|           2|                 2|\n",
      "|     MQ|American Eagle Ai...|           3|                 5|\n",
      "|     AA|American Airlines...|           4|                11|\n",
      "|     UA|United Air Lines ...|           5|                 7|\n",
      "|     VX|      Virgin America|           6|                 8|\n",
      "|     EV|Atlantic Southeas...|           7|                 4|\n",
      "|     US|     US Airways Inc.|           8|                10|\n",
      "|     DL|Delta Air Lines Inc.|           9|                13|\n",
      "|     OO|Skywest Airlines ...|          10|                 6|\n",
      "|     HA|Hawaiian Airlines...|          11|                12|\n",
      "|     AS|Alaska Airlines Inc.|          12|                14|\n",
      "|     WN|Southwest Airline...|          13|                 9|\n",
      "|     B6|     JetBlue Airways|          14|                 3|\n",
      "+-------+--------------------+------------+------------------+"
     ]
    }
   ],
   "source": [
    "#join the rank_avg_taxi_in with rank_avg_arr_delay\n",
    "join_in_arr_rank = spark.sql(\"SELECT r1.AIRLINE,r1.AIRLINE_NAME,r1.RANK_TAXI_IN,r2.RANK_ARRIVAL_DELAY FROM rank_avg_taxi_in r1 LEFT OUTER JOIN rank_avg_arr_delay r2 on r1.AIRLINE=r2.AIRLINE ORDER BY RANK_TAXI_IN ASC\")\n",
    "join_in_arr_rank.show()"
   ]
  },
  {
   "cell_type": "code",
   "execution_count": 33,
   "metadata": {},
   "outputs": [
    {
     "data": {
      "application/vnd.jupyter.widget-view+json": {
       "model_id": "",
       "version_major": 2,
       "version_minor": 0
      },
      "text/plain": [
       "FloatProgress(value=0.0, bar_style='info', description='Progress:', layout=Layout(height='25px', width='50%'),…"
      ]
     },
     "metadata": {},
     "output_type": "display_data"
    }
   ],
   "source": [
    "#save the query results in a table\n",
    "join_in_arr_rank.registerTempTable(\"rank_arr\")"
   ]
  },
  {
   "cell_type": "markdown",
   "metadata": {},
   "source": [
    "* This table below is the results of joining two tables together: rank of average departure and taxi out; rank of average arrival and taxi in"
   ]
  },
  {
   "cell_type": "code",
   "execution_count": 34,
   "metadata": {},
   "outputs": [
    {
     "data": {
      "application/vnd.jupyter.widget-view+json": {
       "model_id": "",
       "version_major": 2,
       "version_minor": 0
      },
      "text/plain": [
       "FloatProgress(value=0.0, bar_style='info', description='Progress:', layout=Layout(height='25px', width='50%'),…"
      ]
     },
     "metadata": {},
     "output_type": "display_data"
    },
    {
     "name": "stdout",
     "output_type": "stream",
     "text": [
      "+-------+--------------------+-------------+--------------------+------------+------------------+---------------+\n",
      "|AIRLINE|        AIRLINE_NAME|RANK_TAXI_OUT|RANK_DEPARTURE_DELAY|RANK_TAXI_IN|RANK_ARRIVAL_DELAY|RANK_DELAY_DIFF|\n",
      "+-------+--------------------+-------------+--------------------+------------+------------------+---------------+\n",
      "|     AA|American Airlines...|            4|                   8|           4|                11|             11|\n",
      "|     AS|Alaska Airlines Inc.|           10|                  13|          12|                14|              7|\n",
      "|     B6|     JetBlue Airways|            3|                   4|          14|                 3|             10|\n",
      "|     DL|Delta Air Lines Inc.|            5|                  11|           9|                13|             13|\n",
      "|     EV|Atlantic Southeas...|            7|                   9|           7|                 4|              5|\n",
      "|     F9|Frontier Airlines...|            9|                   3|           2|                 2|              2|\n",
      "|     HA|Hawaiian Airlines...|           14|                  14|          11|                12|              1|\n",
      "|     MQ|American Eagle Ai...|            8|                   6|           3|                 5|              8|\n",
      "|     NK|    Spirit Air Lines|           12|                   1|           1|                 1|              3|\n",
      "|     OO|Skywest Airlines ...|            2|                  10|          10|                 6|              4|\n",
      "|     UA|United Air Lines ...|            6|                   2|           5|                 7|             14|\n",
      "|     US|     US Airways Inc.|            1|                  12|           8|                10|              6|\n",
      "|     VX|      Virgin America|           11|                   7|           6|                 8|              9|\n",
      "|     WN|Southwest Airline...|           13|                   5|          13|                 9|             12|\n",
      "+-------+--------------------+-------------+--------------------+------------+------------------+---------------+"
     ]
    }
   ],
   "source": [
    "#Join the rank_dep table with rank_arr table, and the rank_delay_diff table\n",
    "overall_taxi_delay_rank = spark.sql(\"SELECT a.AIRLINE, a.AIRLINE_NAME, a.RANK_TAXI_OUT,a.RANK_DEPARTURE_DELAY,b.RANK_TAXI_IN,b.RANK_ARRIVAL_DELAY,c.RANK_DELAY_DIFF FROM rank_dep a join rank_arr b on a.AIRLINE = b.AIRLINE join rank_delay_diff c on c.AIRLINE=b.AIRLINE\")\n",
    "overall_taxi_delay_rank.show()"
   ]
  },
  {
   "cell_type": "code",
   "execution_count": 35,
   "metadata": {},
   "outputs": [
    {
     "data": {
      "application/vnd.jupyter.widget-view+json": {
       "model_id": "",
       "version_major": 2,
       "version_minor": 0
      },
      "text/plain": [
       "FloatProgress(value=0.0, bar_style='info', description='Progress:', layout=Layout(height='25px', width='50%'),…"
      ]
     },
     "metadata": {},
     "output_type": "display_data"
    },
    {
     "name": "stdout",
     "output_type": "stream",
     "text": [
      "+-------+--------------------+------------------+\n",
      "|AIRLINE|        AIRLINE_NAME|         avg_speed|\n",
      "+-------+--------------------+------------------+\n",
      "|     UA|United Air Lines ...| 7.714010082994658|\n",
      "|     VX|      Virgin America| 7.698533609716087|\n",
      "|     AS|Alaska Airlines Inc.| 7.586047816956597|\n",
      "|     HA|Hawaiian Airlines...| 7.452663163830329|\n",
      "|     AA|American Airlines...| 7.448447649136326|\n",
      "|     NK|    Spirit Air Lines| 7.444524801064326|\n",
      "|     F9|Frontier Airlines...|7.4263714887976855|\n",
      "|     B6|     JetBlue Airways| 7.383472205010684|\n",
      "|     DL|Delta Air Lines Inc.| 7.380099605413376|\n",
      "|     US|     US Airways Inc.|7.2471430371648555|\n",
      "|     WN|Southwest Airline...|7.1843632328746425|\n",
      "|     OO|Skywest Airlines ...| 6.566282435040183|\n",
      "|     EV|Atlantic Southeas...| 6.352767047909927|\n",
      "|     MQ|American Eagle Ai...| 6.305131987655124|\n",
      "+-------+--------------------+------------------+"
     ]
    }
   ],
   "source": [
    "#avg air time\n",
    "avg_air = spark.sql(\"SELECT AIRLINE,AIRLINE_NAME,AVG(AIR_TIME) average_air FROM data GROUP BY AIRLINE,AIRLINE_NAME ORDER BY average_air DESC\")\n",
    "\n",
    "#avg distance\n",
    "avg_distance = spark.sql(\"SELECT AIRLINE, AIRLINE_NAME, AVG(DISTANCE) average_dist FROM data GROUP BY AIRLINE,AIRLINE_NAME ORDER BY average_dist DESC\")\n",
    "\n",
    "#avg distance/air_time = average speed\n",
    "avg_speed = spark.sql(\"SELECT AIRLINE,AIRLINE_NAME, AVG(DISTANCE)/AVG(AIR_TIME) avg_speed FROM data GROUP BY AIRLINE,AIRLINE_NAME ORDER BY avg_speed DESC\")\n",
    "avg_speed.show()"
   ]
  },
  {
   "cell_type": "markdown",
   "metadata": {},
   "source": [
    "* This table below shows the count of delay cases based on delay reason, grouped by each airline"
   ]
  },
  {
   "cell_type": "code",
   "execution_count": 36,
   "metadata": {},
   "outputs": [
    {
     "data": {
      "application/vnd.jupyter.widget-view+json": {
       "model_id": "",
       "version_major": 2,
       "version_minor": 0
      },
      "text/plain": [
       "FloatProgress(value=0.0, bar_style='info', description='Progress:', layout=Layout(height='25px', width='50%'),…"
      ]
     },
     "metadata": {},
     "output_type": "display_data"
    },
    {
     "name": "stdout",
     "output_type": "stream",
     "text": [
      "+-------+--------------------+----------+-------+--------+--------+-------------+\n",
      "|AIRLINE|        AIRLINE_NAME|air_system|weather|security|airlines|late_aircraft|\n",
      "+-------+--------------------+----------+-------+--------+--------+-------------+\n",
      "|     WN|Southwest Airline...|     90413|  10021|     544|  137819|       159738|\n",
      "|     OO|Skywest Airlines ...|     55963|   4306|     338|   37981|        61192|\n",
      "|     AA|American Airlines...|     67855|   9779|     690|   66107|        56785|\n",
      "|     DL|Delta Air Lines Inc.|     61932|  11573|      58|   61036|        49268|\n",
      "|     UA|United Air Lines ...|     48001|   7472|      26|   64873|        49127|\n",
      "|     MQ|American Eagle Ai...|     34372|   8843|     305|   26110|        31822|\n",
      "|     B6|     JetBlue Airways|     32688|   2160|     426|   37352|        31163|\n",
      "|     US|     US Airways Inc.|     23021|   1644|     355|   18662|        13354|\n",
      "|     NK|    Spirit Air Lines|     23919|    912|     291|   16560|        11675|\n",
      "|     AS|Alaska Airlines Inc.|     14298|    854|     246|    8187|         7866|\n",
      "|     VX|      Virgin America|      5267|   1967|      78|    4230|         5366|\n",
      "|     HA|Hawaiian Airlines...|       314|    559|      28|    7126|         4809|\n",
      "+-------+--------------------+----------+-------+--------+--------+-------------+"
     ]
    }
   ],
   "source": [
    "#find reasons for delay\n",
    "#airsystem\n",
    "airsystem_delay= spark.sql(\"SELECT AIRLINE_NAME,COUNT(AIR_SYSTEM_DELAY) AS air_system, AIRLINE FROM data WHERE AIR_SYSTEM_DELAY > 1 GROUP BY AIRLINE,AIRLINE_NAME ORDER BY air_system DESC\")\n",
    "\n",
    "#weather\n",
    "weather_delay= spark.sql(\"SELECT COUNT(WEATHER_DELAY) AS weather, AIRLINE FROM data WHERE WEATHER_DELAY > 1 GROUP BY AIRLINE ORDER BY weather DESC\")\n",
    "\n",
    "#security\n",
    "security_delay= spark.sql(\"SELECT COUNT(SECURITY_DELAY) AS security, AIRLINE FROM data WHERE SECURITY_DELAY > 1 GROUP BY AIRLINE ORDER BY security DESC\")\n",
    "\n",
    "\n",
    "#airline\n",
    "airline_delay= spark.sql(\"SELECT COUNT(AIRLINE_DELAY) AS airlines, AIRLINE FROM data WHERE AIRLINE_DELAY > 1 GROUP BY AIRLINE ORDER BY airlines DESC\")\n",
    "\n",
    "\n",
    "#late aircraft\n",
    "late_aircraft_delay= spark.sql(\"SELECT COUNT(LATE_AIRCRAFT_DELAY) AS late_aircraft, AIRLINE FROM data WHERE LATE_AIRCRAFT_DELAY > 1 GROUP BY AIRLINE ORDER BY late_aircraft DESC\")\n",
    "\n",
    "airline_delay.registerTempTable(\"airline_del\")\n",
    "weather_delay.registerTempTable(\"weather_del\")\n",
    "security_delay.registerTempTable(\"security_del\")\n",
    "late_aircraft_delay.registerTempTable(\"late_aircraft_del\")\n",
    "airsystem_delay.registerTempTable(\"airsystem_del\")\n",
    "\n",
    "#joining\n",
    "delay_reasons = spark.sql(\"SELECT a.AIRLINE, a.AIRLINE_NAME, a.air_system, b.weather, c.security, d.airlines, e.late_aircraft FROM airsystem_del a JOIN weather_del b ON a.AIRLINE = b.AIRLINE JOIN security_del c ON b.AIRLINE = c.AIRLINE JOIN airline_del d ON c.AIRLINE = d.AIRLINE JOIN late_aircraft_del e ON c.AIRLINE = e.AIRLINE\")\n",
    "delay_reasons.show()"
   ]
  },
  {
   "cell_type": "markdown",
   "metadata": {},
   "source": [
    "## Airport"
   ]
  },
  {
   "cell_type": "markdown",
   "metadata": {},
   "source": [
    "* The reason why there are null values in the tables below is because the column \"ORIGINAL_AIRPORT\" in flights data is type String, but there are digits in this column. After many tries, it seems to be impossible to drop the \"numeric\" values in the column since when imported, the data type is categorical. But we can ignore these values and focus on the non_null results"
   ]
  },
  {
   "cell_type": "code",
   "execution_count": 37,
   "metadata": {},
   "outputs": [
    {
     "data": {
      "application/vnd.jupyter.widget-view+json": {
       "model_id": "",
       "version_major": 2,
       "version_minor": 0
      },
      "text/plain": [
       "FloatProgress(value=0.0, bar_style='info', description='Progress:', layout=Layout(height='25px', width='50%'),…"
      ]
     },
     "metadata": {},
     "output_type": "display_data"
    },
    {
     "name": "stdout",
     "output_type": "stream",
     "text": [
      "+--------------+--------------------+--------------------+------------+------------------+\n",
      "|ORIGIN_AIRPORT| AIRPORT_ORIGIN_NAME|         ORIGIN_CITY|ORIGIN_STATE|     avg_dep_delay|\n",
      "+--------------+--------------------+--------------------+------------+------------------+\n",
      "|         14222|                null|                null|        null| 89.11111111111111|\n",
      "|           ILG|  Wilmington Airport|          Wilmington|          DE|29.391752577319586|\n",
      "|         13964|                null|                null|        null|          28.84375|\n",
      "|           MVY|Martha's Vineyard...|    Marthas Vineyard|          MA| 25.90731707317073|\n",
      "|           HYA|Barnstable Munici...|             Hyannis|          MA|23.182926829268293|\n",
      "|         10154|                null|                null|        null|22.857142857142858|\n",
      "|         10581|                null|                null|        null| 20.11111111111111|\n",
      "|           STC|St. Cloud Regiona...|            St Cloud|          MN|18.692307692307693|\n",
      "|           OTH|Southwest Oregon ...|          North Bend|          OR|17.777358490566037|\n",
      "|           ASE|Aspen-Pitkin Coun...|               Aspen|          CO| 17.58753799392097|\n",
      "|         10165|                null|                null|        null|17.555555555555557|\n",
      "|         14025|                null|                null|        null| 17.53846153846154|\n",
      "|           CEC|Del Norte County ...|       Crescent City|          CA|17.413793103448278|\n",
      "|           GST|    Gustavus Airport|            Gustavus|          AK| 17.17105263157895|\n",
      "|           BPT|Jack Brooks Regio...|Beaumont/Port Arthur|          TX| 17.02085620197585|\n",
      "|           GUM|Guam Internationa...|               Agana|          GU|16.647590361445783|\n",
      "|           ACK|Nantucket Memoria...|           Nantucket|          MA| 16.38888888888889|\n",
      "|           UST|Northeast Florida...|       St. Augustine|          FL|16.368055555555557|\n",
      "|           EGE|Eagle County Regi...|               Eagle|          CO|15.744398340248962|\n",
      "|           PPG|Pago Pago Interna...|           Pago Pago|          AS|15.102803738317757|\n",
      "+--------------+--------------------+--------------------+------------+------------------+\n",
      "only showing top 20 rows"
     ]
    }
   ],
   "source": [
    "#find airports average departure delay\n",
    "avg_airport_dep_delay = spark.sql(\"SELECT ORIGIN_AIRPORT, AIRPORT_ORIGIN_NAME,ORIGIN_CITY,ORIGIN_STATE, AVG(DEPARTURE_DELAY) avg_dep_delay FROM data GROUP BY ORIGIN_AIRPORT,AIRPORT_ORIGIN_NAME,ORIGIN_CITY,ORIGIN_STATE ORDER BY avg_dep_delay DESC\")\n",
    "avg_airport_dep_delay.show()"
   ]
  },
  {
   "cell_type": "code",
   "execution_count": 38,
   "metadata": {},
   "outputs": [
    {
     "data": {
      "application/vnd.jupyter.widget-view+json": {
       "model_id": "",
       "version_major": 2,
       "version_minor": 0
      },
      "text/plain": [
       "FloatProgress(value=0.0, bar_style='info', description='Progress:', layout=Layout(height='25px', width='50%'),…"
      ]
     },
     "metadata": {},
     "output_type": "display_data"
    },
    {
     "name": "stdout",
     "output_type": "stream",
     "text": [
      "+-------------------+------------------------+--------------------+-----------------+------------------+\n",
      "|DESTINATION_AIRPORT|AIRPORT_DESTINATION_NAME|    DESTINATION_CITY|DESTINATION_STATE|     avg_arr_delay|\n",
      "+-------------------+------------------------+--------------------+-----------------+------------------+\n",
      "|              13964|                    null|                null|             null|          26.90625|\n",
      "|                STC|    St. Cloud Regiona...|            St Cloud|               MN|23.025974025974026|\n",
      "|                ILG|      Wilmington Airport|          Wilmington|               DE|21.989473684210527|\n",
      "|              14025|                    null|                null|             null|              18.0|\n",
      "|                TTN|    Trenton Mercer Ai...|             Trenton|               NJ| 17.43390076059399|\n",
      "|                GUM|    Guam Internationa...|               Agana|               GU|  17.3202416918429|\n",
      "|                OTH|    Southwest Oregon ...|          North Bend|               OR|  16.7406015037594|\n",
      "|                MQT|    Sawyer Internatio...|           Marquette|               MI|16.152027027027028|\n",
      "|                ASE|    Aspen-Pitkin Coun...|               Aspen|               CO|15.829447852760737|\n",
      "|                PBG|    Plattsburgh Inter...|         Plattsburgh|               NY|15.288256227758007|\n",
      "|                BPT|    Jack Brooks Regio...|Beaumont/Port Arthur|               TX|14.631693989071039|\n",
      "|              14222|                    null|                null|             null| 13.11111111111111|\n",
      "|                BQN|    Rafael HernÃ¡ndez...|           Aguadilla|               PR| 12.19277108433735|\n",
      "|              15070|                    null|                null|             null|11.836065573770492|\n",
      "|                ACY|    Atlantic City Int...|       Atlantic City|               NJ|11.825495750708216|\n",
      "|                LBE|    Arnold Palmer Reg...|             Latrobe|               PA|11.101844426623897|\n",
      "|                GST|        Gustavus Airport|            Gustavus|               AK|10.837837837837839|\n",
      "|                COU|    Columbia Regional...|            Columbia|               MO| 10.81608280254777|\n",
      "|                CHO|    Charlottesville-A...|     Charlottesville|               VA|10.732354334438655|\n",
      "|                ACT|    Waco Regional Air...|                Waco|               TX| 10.63724853990915|\n",
      "+-------------------+------------------------+--------------------+-----------------+------------------+\n",
      "only showing top 20 rows"
     ]
    }
   ],
   "source": [
    "#airports avg arrival delay\n",
    "avg_airport_dep_delay = spark.sql(\"SELECT DESTINATION_AIRPORT, AIRPORT_DESTINATION_NAME,DESTINATION_CITY,DESTINATION_STATE, AVG(ARRIVAL_DELAY) avg_arr_delay FROM data GROUP BY DESTINATION_AIRPORT,AIRPORT_DESTINATION_NAME,DESTINATION_CITY,DESTINATION_STATE ORDER BY avg_arr_delay DESC\")\n",
    "avg_airport_dep_delay.show()"
   ]
  },
  {
   "cell_type": "markdown",
   "metadata": {},
   "source": [
    "## Time of the Year (Month and Day of Week)"
   ]
  },
  {
   "cell_type": "code",
   "execution_count": 39,
   "metadata": {},
   "outputs": [
    {
     "data": {
      "application/vnd.jupyter.widget-view+json": {
       "model_id": "",
       "version_major": 2,
       "version_minor": 0
      },
      "text/plain": [
       "FloatProgress(value=0.0, bar_style='info', description='Progress:', layout=Layout(height='25px', width='50%'),…"
      ]
     },
     "metadata": {},
     "output_type": "display_data"
    },
    {
     "name": "stdout",
     "output_type": "stream",
     "text": [
      "+-----+--------------------+--------------------------+\n",
      "|MONTH|avg(DEPARTURE_DELAY)|RANK_DEPARTURE_DELAY_MONTH|\n",
      "+-----+--------------------+--------------------------+\n",
      "|    6|  13.986015722971977|                         1|\n",
      "|    2|  11.885283967032645|                         2|\n",
      "|   12|  11.783529247101587|                         3|\n",
      "|    7|  11.394664197392151|                         4|\n",
      "|    8|    9.93204459320268|                         5|\n",
      "|    1|   9.759471188777926|                         6|\n",
      "|    3|    9.66090306741507|                         7|\n",
      "|    5|   9.454143844184054|                         8|\n",
      "|    4|   7.721884890350968|                         9|\n",
      "|   11|   6.944197242215287|                        10|\n",
      "|   10|   4.982661121973602|                        11|\n",
      "|    9|   4.823559775213923|                        12|\n",
      "+-----+--------------------+--------------------------+"
     ]
    }
   ],
   "source": [
    "#find avg departure delay by month\n",
    "month_dep_delay = spark.sql(\"SELECT MONTH, AVG(DEPARTURE_DELAY), rank(AVG(DEPARTURE_DELAY)) OVER(ORDER BY AVG(DEPARTURE_DELAY) DESC)as RANK_DEPARTURE_DELAY_MONTH FROM data GROUP BY MONTH ORDER BY RANK_DEPARTURE_DELAY_MONTH ASC \")\n",
    "month_dep_delay.show()"
   ]
  },
  {
   "cell_type": "code",
   "execution_count": 40,
   "metadata": {},
   "outputs": [
    {
     "data": {
      "application/vnd.jupyter.widget-view+json": {
       "model_id": "",
       "version_major": 2,
       "version_minor": 0
      },
      "text/plain": [
       "FloatProgress(value=0.0, bar_style='info', description='Progress:', layout=Layout(height='25px', width='50%'),…"
      ]
     },
     "metadata": {},
     "output_type": "display_data"
    }
   ],
   "source": [
    "#save the query results to a table\n",
    "month_dep_delay.registerTempTable(\"month_dep_delay_tb\")"
   ]
  },
  {
   "cell_type": "code",
   "execution_count": 41,
   "metadata": {},
   "outputs": [
    {
     "data": {
      "application/vnd.jupyter.widget-view+json": {
       "model_id": "",
       "version_major": 2,
       "version_minor": 0
      },
      "text/plain": [
       "FloatProgress(value=0.0, bar_style='info', description='Progress:', layout=Layout(height='25px', width='50%'),…"
      ]
     },
     "metadata": {},
     "output_type": "display_data"
    },
    {
     "name": "stdout",
     "output_type": "stream",
     "text": [
      "+-----------+--------------------+------------------------+\n",
      "|DAY_OF_WEEK|avg(DEPARTURE_DELAY)|RANK_DEPARTURE_DELAY_DAY|\n",
      "+-----------+--------------------+------------------------+\n",
      "|          1|  10.871775063646947|                       1|\n",
      "|          4|   9.956913497060805|                       2|\n",
      "|          5|   9.429767977851792|                       3|\n",
      "|          7|   9.402855627605891|                       4|\n",
      "|          2|   9.164522265904088|                       5|\n",
      "|          3|   8.645276690756555|                       6|\n",
      "|          6|   7.827415699173568|                       7|\n",
      "+-----------+--------------------+------------------------+"
     ]
    }
   ],
   "source": [
    "#find avg departure delay by day of week \n",
    "#\"1\" means Monday, \"7\" means Sunday\n",
    "day_dep_delay = spark.sql(\"SELECT DAY_OF_WEEK, AVG(DEPARTURE_DELAY), rank(AVG(DEPARTURE_DELAY)) OVER(ORDER BY AVG(DEPARTURE_DELAY) DESC)as RANK_DEPARTURE_DELAY_DAY FROM data GROUP BY DAY_OF_WEEK ORDER BY RANK_DEPARTURE_DELAY_DAY ASC \")\n",
    "day_dep_delay.show()"
   ]
  },
  {
   "cell_type": "code",
   "execution_count": 42,
   "metadata": {},
   "outputs": [
    {
     "data": {
      "application/vnd.jupyter.widget-view+json": {
       "model_id": "",
       "version_major": 2,
       "version_minor": 0
      },
      "text/plain": [
       "FloatProgress(value=0.0, bar_style='info', description='Progress:', layout=Layout(height='25px', width='50%'),…"
      ]
     },
     "metadata": {},
     "output_type": "display_data"
    }
   ],
   "source": [
    "#save query results to a table\n",
    "day_dep_delay.registerTempTable(\"day_dep_delay_tb\")"
   ]
  },
  {
   "cell_type": "code",
   "execution_count": 43,
   "metadata": {},
   "outputs": [
    {
     "data": {
      "application/vnd.jupyter.widget-view+json": {
       "model_id": "",
       "version_major": 2,
       "version_minor": 0
      },
      "text/plain": [
       "FloatProgress(value=0.0, bar_style='info', description='Progress:', layout=Layout(height='25px', width='50%'),…"
      ]
     },
     "metadata": {},
     "output_type": "display_data"
    },
    {
     "name": "stdout",
     "output_type": "stream",
     "text": [
      "+-----+-------------------+------------------------+\n",
      "|MONTH| avg(ARRIVAL_DELAY)|RANK_ARRIVAL_DELAY_MONTH|\n",
      "+-----+-------------------+------------------------+\n",
      "|    6|  9.601590351569554|                       1|\n",
      "|    2|  8.320500020850556|                       2|\n",
      "|    7| 6.4317747052785466|                       3|\n",
      "|   12|  6.092902747824754|                       4|\n",
      "|    1|  5.813582983416227|                       5|\n",
      "|    3|   4.92067265685641|                       6|\n",
      "|    8|  4.607372469025074|                       7|\n",
      "|    5|  4.485018615679651|                       8|\n",
      "|    4| 3.1631900611579318|                       9|\n",
      "|   11|  1.100783576682592|                      10|\n",
      "|    9|-0.7725709883956179|                      11|\n",
      "|   10| -0.780389663641748|                      12|\n",
      "+-----+-------------------+------------------------+"
     ]
    }
   ],
   "source": [
    "#find avg arrical delay by month\n",
    "month_arr_delay = spark.sql(\"SELECT MONTH, AVG(ARRIVAL_DELAY), rank(AVG(ARRIVAL_DELAY)) OVER(ORDER BY AVG(ARRIVAL_DELAY) DESC)as RANK_ARRIVAL_DELAY_MONTH FROM data GROUP BY MONTH ORDER BY RANK_ARRIVAL_DELAY_MONTH ASC \")\n",
    "month_arr_delay.show()"
   ]
  },
  {
   "cell_type": "code",
   "execution_count": 44,
   "metadata": {},
   "outputs": [
    {
     "data": {
      "application/vnd.jupyter.widget-view+json": {
       "model_id": "",
       "version_major": 2,
       "version_minor": 0
      },
      "text/plain": [
       "FloatProgress(value=0.0, bar_style='info', description='Progress:', layout=Layout(height='25px', width='50%'),…"
      ]
     },
     "metadata": {},
     "output_type": "display_data"
    }
   ],
   "source": [
    "#save query results to a table\n",
    "month_arr_delay.registerTempTable(\"month_arr_delay_tb\")"
   ]
  },
  {
   "cell_type": "code",
   "execution_count": 45,
   "metadata": {},
   "outputs": [
    {
     "data": {
      "application/vnd.jupyter.widget-view+json": {
       "model_id": "",
       "version_major": 2,
       "version_minor": 0
      },
      "text/plain": [
       "FloatProgress(value=0.0, bar_style='info', description='Progress:', layout=Layout(height='25px', width='50%'),…"
      ]
     },
     "metadata": {},
     "output_type": "display_data"
    },
    {
     "name": "stdout",
     "output_type": "stream",
     "text": [
      "+-----------+------------------+----------------------+\n",
      "|DAY_OF_WEEK|avg(ARRIVAL_DELAY)|RANK_ARRIVAL_DELAY_DAY|\n",
      "+-----------+------------------+----------------------+\n",
      "|          1| 6.002063450202781|                     1|\n",
      "|          4| 5.668333554807981|                     2|\n",
      "|          5| 4.764079085069422|                     3|\n",
      "|          2| 4.246040906503392|                     4|\n",
      "|          7|3.9582932010890217|                     5|\n",
      "|          3|3.8454678490872136|                     6|\n",
      "|          6|1.8528920108155913|                     7|\n",
      "+-----------+------------------+----------------------+"
     ]
    }
   ],
   "source": [
    "#find avg arrical delay by day-of-week\n",
    "day_arr_delay = spark.sql(\"SELECT DAY_OF_WEEK, AVG(ARRIVAL_DELAY), rank(AVG(ARRIVAL_DELAY)) OVER(ORDER BY AVG(ARRIVAL_DELAY) DESC)as RANK_ARRIVAL_DELAY_DAY FROM data GROUP BY DAY_OF_WEEK ORDER BY RANK_ARRIVAL_DELAY_DAY ASC \")\n",
    "day_arr_delay.show()"
   ]
  },
  {
   "cell_type": "code",
   "execution_count": 46,
   "metadata": {},
   "outputs": [
    {
     "data": {
      "application/vnd.jupyter.widget-view+json": {
       "model_id": "",
       "version_major": 2,
       "version_minor": 0
      },
      "text/plain": [
       "FloatProgress(value=0.0, bar_style='info', description='Progress:', layout=Layout(height='25px', width='50%'),…"
      ]
     },
     "metadata": {},
     "output_type": "display_data"
    }
   ],
   "source": [
    "#save query results to a table\n",
    "day_arr_delay.registerTempTable(\"day_arr_delay_tb\")"
   ]
  },
  {
   "cell_type": "markdown",
   "metadata": {},
   "source": [
    "* This table below shows the rank of average departure delay and rank of average arrival delay by month"
   ]
  },
  {
   "cell_type": "code",
   "execution_count": 47,
   "metadata": {},
   "outputs": [
    {
     "data": {
      "application/vnd.jupyter.widget-view+json": {
       "model_id": "",
       "version_major": 2,
       "version_minor": 0
      },
      "text/plain": [
       "FloatProgress(value=0.0, bar_style='info', description='Progress:', layout=Layout(height='25px', width='50%'),…"
      ]
     },
     "metadata": {},
     "output_type": "display_data"
    },
    {
     "name": "stdout",
     "output_type": "stream",
     "text": [
      "+-----+--------------------------+------------------------+\n",
      "|MONTH|RANK_DEPARTURE_DELAY_MONTH|RANK_ARRIVAL_DELAY_MONTH|\n",
      "+-----+--------------------------+------------------------+\n",
      "|    1|                         6|                       5|\n",
      "|    2|                         2|                       2|\n",
      "|    3|                         7|                       6|\n",
      "|    4|                         9|                       9|\n",
      "|    5|                         8|                       8|\n",
      "|    6|                         1|                       1|\n",
      "|    7|                         4|                       3|\n",
      "|    8|                         5|                       7|\n",
      "|    9|                        12|                      11|\n",
      "|   10|                        11|                      12|\n",
      "|   11|                        10|                      10|\n",
      "|   12|                         3|                       4|\n",
      "+-----+--------------------------+------------------------+"
     ]
    }
   ],
   "source": [
    "#Join tables: \n",
    "#departure and arrival delay for each month\n",
    "#departure and arrival delay for day of week\n",
    "month_delay = spark.sql(\"SELECT a.MONTH,a.RANK_DEPARTURE_DELAY_MONTH,b.RANK_ARRIVAL_DELAY_MONTH from month_dep_delay_tb a join month_arr_delay_tb b on a.MONTH=b.MONTH ORDER BY MONTH ASC\")\n",
    "month_delay.show()"
   ]
  },
  {
   "cell_type": "markdown",
   "metadata": {},
   "source": [
    "* This table below shows the rank of average departure delay and rank of average arrival delay by day of week"
   ]
  },
  {
   "cell_type": "code",
   "execution_count": 48,
   "metadata": {},
   "outputs": [
    {
     "data": {
      "application/vnd.jupyter.widget-view+json": {
       "model_id": "",
       "version_major": 2,
       "version_minor": 0
      },
      "text/plain": [
       "FloatProgress(value=0.0, bar_style='info', description='Progress:', layout=Layout(height='25px', width='50%'),…"
      ]
     },
     "metadata": {},
     "output_type": "display_data"
    },
    {
     "name": "stdout",
     "output_type": "stream",
     "text": [
      "+-----------+------------------------+----------------------+\n",
      "|DAY_OF_WEEK|RANK_DEPARTURE_DELAY_DAY|RANK_ARRIVAL_DELAY_DAY|\n",
      "+-----------+------------------------+----------------------+\n",
      "|          1|                       1|                     1|\n",
      "|          2|                       5|                     4|\n",
      "|          3|                       6|                     6|\n",
      "|          4|                       2|                     2|\n",
      "|          5|                       3|                     3|\n",
      "|          6|                       7|                     7|\n",
      "|          7|                       4|                     5|\n",
      "+-----------+------------------------+----------------------+"
     ]
    }
   ],
   "source": [
    "day_delay = spark.sql(\"SELECT a.DAY_OF_WEEK, a.RANK_DEPARTURE_DELAY_DAY,b.RANK_ARRIVAL_DELAY_DAY from day_dep_delay_tb a join day_arr_delay_tb b on a.DAY_OF_WEEK=b.DAY_OF_WEEK ORDER BY DAY_OF_WEEK ASC\")\n",
    "day_delay.show()"
   ]
  }
 ],
 "metadata": {
  "kernelspec": {
   "display_name": "PySpark",
   "language": "",
   "name": "pysparkkernel"
  },
  "language_info": {
   "codemirror_mode": {
    "name": "python",
    "version": 3
   },
   "mimetype": "text/x-python",
   "name": "pyspark",
   "pygments_lexer": "python3"
  }
 },
 "nbformat": 4,
 "nbformat_minor": 4
}
